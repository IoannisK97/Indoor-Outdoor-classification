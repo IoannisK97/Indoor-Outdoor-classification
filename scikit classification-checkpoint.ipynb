{
 "cells": [
  {
   "cell_type": "code",
   "execution_count": 1,
   "id": "2410973b",
   "metadata": {},
   "outputs": [],
   "source": [
    "import pandas as pd\n",
    "from datetime import datetime"
   ]
  },
  {
   "cell_type": "code",
   "execution_count": 2,
   "id": "91215474",
   "metadata": {},
   "outputs": [],
   "source": [
    "import csv\n",
    "import math\n",
    "def turnLineToNum(lineList):\n",
    "    newLine=[]\n",
    "    for i in range(1,len(lineList)):\n",
    "        if lineList[i]!='' and lineList[i]!=' ':\n",
    "            newLine.append(float(lineList[i]))\n",
    "        else:\n",
    "            newLine.append(float(0))\n",
    "    newLine=[lineList[0]]+newLine\n",
    "    return newLine\n",
    "\n",
    "def fileTraversing(fileName,csvname):\n",
    "    f=open(fileName)\n",
    "    listOfFile=[]\n",
    "    for line in f:\n",
    "        line=line.strip()\n",
    "        if len(line)>0:\n",
    "            if line[0]!=\"#\":\n",
    "                splitLine=line.split(\",\")\n",
    "                listOfFile.append(splitLine)\n",
    "                \n",
    "    with open(csvname, 'w', newline='') as file:\n",
    "        writer = csv.writer(file)\n",
    "        for line in listOfFile:\n",
    "            if line[0]=='Status':\n",
    "                writer.writerow([line[0],line[1],line[2]])\n",
    "            elif line[0]=='Raw':\n",
    "                GPSTime=(float(line[2])+float(line[12])-float(line[5])-float(line[6]))/10**9\n",
    "                nWeeks=math.floor(GPSTime/604800)\n",
    "                TOWGPS=GPSTime-nWeeks*604800\n",
    "                temp=(TOWGPS-((float(line[14])/10**9)))\n",
    "                writer.writerow([line[0],line[1],line[11],line[27],temp*299792458])\n",
    "            elif line[0]==\"UncalMag\":\n",
    "                writer.writerow([line[0],line[1],line[3],line[4],line[5]])\n",
    "                \n",
    "    \n",
    "    \n",
    "        \n",
    "   \n",
    "        \n",
    "#Hardcoded files on my device\n",
    "\n",
    "fileTraversing(\"C:\\\\Users\\\\user\\\\OneDrive\\\\Υπολογιστής\\\\IndoorOutdoor\\\\newMeasurements\\\\samsungOutdoor.txt\",'OutdoorC.csv')\n",
    "fileTraversing(\"C:\\\\Users\\\\user\\\\OneDrive\\\\Υπολογιστής\\\\IndoorOutdoor\\\\newMeasurements\\\\samsungIndoors.txt\",'IndoorC.csv')\n",
    "fileTraversing(\"C:\\\\Users\\\\user\\\\OneDrive\\\\Υπολογιστής\\\\IndoorOutdoor\\\\newMeasurements\\\\samsungDoor.txt\",'AtdoorC.csv')\n",
    "fileTraversing(\"C:\\\\Users\\\\user\\\\OneDrive\\\\Υπολογιστής\\\\IndoorOutdoor\\\\28June measurementd\\\\samsung indoor near elevator.txt\",'IndoorC2.csv')\n",
    "fileTraversing(\"C:\\\\Users\\\\user\\\\OneDrive\\\\Υπολογιστής\\\\IndoorOutdoor\\\\28June measurementd\\\\samsung outdoor far.txt\",'OutdoorC2.csv')\n",
    "fileTraversing(\"C:\\\\Users\\\\user\\\\Downloads\\\\gnss_log_2022_07_20_13_53_21.txt\",'Indoor3.csv')\n",
    "fileTraversing(\"C:\\\\Users\\\\user\\\\OneDrive\\\\Υπολογιστής\\\\IndoorOutdoor\\\\measurements\\\\gnss_log_2022_06_09_15_22_41 outdoor samsung.txt\",'Outdoor3.csv')\n",
    "fileTraversing(\"C:\\\\Users\\\\user\\\\OneDrive\\\\Υπολογιστής\\\\IndoorOutdoor\\\\measurements\\\\gnss_log_2022_06_09_15_28_02 door samsung.txt\",'Door3.csv')\n",
    "fileTraversing(\"C:\\\\Users\\\\user\\\\OneDrive\\\\Υπολογιστής\\\\IndoorOutdoor\\\\measurements\\\\gnss_log_2022_06_09_15_28_02 door samsung.txt\",\"Door2.csv\")\n",
    "fileTraversing(\"C:\\\\Users\\\\user\\\\Downloads\\\\gnss_log_2022_07_27_11_29_02.txt\",'Outdoor4.csv')\n",
    "fileTraversing(\"C:\\\\Users\\\\user\\\\Downloads\\\\gnss_log_2022_07_27_12_15_04.txt\",'Indoor4.csv')"
   ]
  },
  {
   "cell_type": "code",
   "execution_count": 37,
   "id": "e71d6565",
   "metadata": {},
   "outputs": [],
   "source": [
    "def csvToList(csvName):\n",
    "    mylist=[]\n",
    "    with open(csvName, 'r') as file:\n",
    "        reader = csv.reader(file)\n",
    "        for row in reader:\n",
    "            mylist.append(turnLineToNum(row))\n",
    "    \n",
    "    initialTime=mylist[0][1]\n",
    "    returnList=[]\n",
    "    tempRaws,tempMagns,tempStatus=[],[],[]\n",
    "    for i in range(0,len(mylist)-1):\n",
    "        tempDict={}\n",
    "        tempList=[]\n",
    "        if (mylist[i][0]==\"UncalMag\"):\n",
    "            tempMagns.append(mylist[i])\n",
    "        elif (mylist[i][0]==\"Status\"):\n",
    "            tempStatus.append(mylist[i])\n",
    "        elif (mylist[i][0]==\"Raw\"):\n",
    "            tempRaws.append(mylist[i])\n",
    "\n",
    "            if (mylist[i+1][0]!=\"Raw\" and len(tempMagns)!=0 and len(tempStatus)!=0):\n",
    "                tempDict['meanNoSatellites'],tempDict['stdNoSatellites']=meanOfColumn(tempStatus,2)\n",
    "                tempDict['meanMagnetometerX'],tempDict['stdMagnetometerX']=meanOfColumn(tempMagns,2)\n",
    "                tempDict['meanMagnetometerY'],tempDict['stdMagnetometerY']=meanOfColumn(tempMagns,3)\n",
    "                tempDict['meanMagnetometerZ'],tempDict['stdMagnetometerZ']=meanOfColumn(tempMagns,4)\n",
    "                tempDict['meanSignalToNoiseRatio'],tempDict['stdSignalToNoiseRatio']=meanOfColumn(tempRaws,3)\n",
    "                tempDict['meanPseudoRange'],tempDict['stdPseudoRange']=meanOfColumn(tempRaws,4)\n",
    "                tempList.append([tempDict['meanMagnetometerX'],tempDict['meanMagnetometerY'],tempDict['meanMagnetometerZ'],\n",
    "                                  tempDict['stdMagnetometerX'],tempDict['stdMagnetometerY'],tempDict['stdMagnetometerZ'],\n",
    "                                   tempDict['meanNoSatellites'],tempDict['stdNoSatellites'],tempDict['meanSignalToNoiseRatio'],\n",
    "                                   tempDict['stdSignalToNoiseRatio'], tempDict['meanPseudoRange'],tempDict['stdPseudoRange']])\n",
    "                tempRaws,tempMagns,tempStatus=[],[],[]\n",
    "                lastTime=mylist[i][1]\n",
    "                stringTime='From '+ datetime.utcfromtimestamp(initialTime/1000).strftime('%Y-%m-%d %H:%M:%S')+\" to \" +datetime.utcfromtimestamp(lastTime/1000).strftime('%Y-%m-%d %H:%M:%S')\n",
    "                initialTime=lastTime\n",
    "                returnList.append((stringTime,flatterList(tempList)))\n",
    "    return returnList\n",
    "                \n",
    "\n",
    "def printLocation(fileName,csvName,model):\n",
    "    fileTraversing(fileName,csvName)\n",
    "    sc=StandardScaler()\n",
    "    listOfSamples=csvToList(csvName)\n",
    "    newList=[]\n",
    "    for line in listOfSamples:\n",
    "        newList.append(line[1])\n",
    "    \n",
    "    df=pd.DataFrame(newList, columns = ['MeanMagnetometerX', 'MeanMagnetometerY','MeanMagnetometerZ','StdMagnetometerX','StdMagnetometerY','StdMagnetometerZ','MeanNoSatellites','StdNoSatellites','MeanSignalToNoiseRatio','StdSignalToNoiseRatio','MeanPseudorange','StdPseudorange'])\n",
    "    df=sc.fit_transform(df)\n",
    "    prediction=model.predict(df)\n",
    "    \n",
    "    for i in range(0,len(prediction)):\n",
    "        print(str(listOfSamples[i][0])+\" the location is \"+ prediction[i])\n",
    "\n",
    "        \n",
    "        \n",
    "def numberToLocation(num):\n",
    "    if (num==0):\n",
    "        return \"outdoor\"\n",
    "    elif (num==1):\n",
    "        return \"at the door\"\n",
    "    elif (num==2):\n",
    "        return \"indoors\""
   ]
  },
  {
   "cell_type": "code",
   "execution_count": 4,
   "id": "f7321391",
   "metadata": {},
   "outputs": [],
   "source": [
    "def breakdowncsv(filename,targetClass):\n",
    "    mylist=[]\n",
    "    with open(filename, 'r') as file:\n",
    "        reader = csv.reader(file)\n",
    "        for row in reader:\n",
    "            mylist.append(turnLineToNum(row))\n",
    "    \n",
    "    listOfRaws=[]\n",
    "    listOfMagns=[]\n",
    "    listOfStatus=[]\n",
    "    tempRaws=[]\n",
    "    tempMagns=[]\n",
    "    tempStatus=[]\n",
    "    for i in range(0,len(mylist)-1):\n",
    "        if (mylist[i][0]==\"UncalMag\"):\n",
    "            tempMagns.append(mylist[i])\n",
    "        elif (mylist[i][0]==\"Status\"):\n",
    "            tempStatus.append(mylist[i])\n",
    "        elif (mylist[i][0]==\"Raw\"):\n",
    "            \n",
    "            tempRaws.append(mylist[i])\n",
    "\n",
    "            if (mylist[i+1][0]!=\"Raw\" and len(tempMagns)!=0 and len(tempStatus)!=0):\n",
    "                meanNoSatellites,stdNoSatellites=meanOfColumn(tempStatus,2)\n",
    "                meanMagnX,stdMagnX=meanOfColumn(tempMagns,2)\n",
    "                meanMagnY,stdMagnY=meanOfColumn(tempMagns,3)\n",
    "                meanMagnZ,stdMagnZ=meanOfColumn(tempMagns,4)\n",
    "                meanSNR,stdSNR=meanOfColumn(tempRaws,3)\n",
    "                meanPR,stdPR=meanOfColumn(tempRaws,4)\n",
    "                listOfStatus.append([meanNoSatellites,stdNoSatellites])\n",
    "                listOfMagns.append([meanMagnX,meanMagnY,meanMagnZ,stdMagnX,stdMagnY,stdMagnZ])\n",
    "                listOfRaws.append([meanSNR,stdSNR,meanPR,stdPR])\n",
    "                tempRaws,tempMagns,tempStatus=[],[],[]\n",
    "    \n",
    "    newList=[]\n",
    "    c=0\n",
    "    for i in range(0,len(listOfRaws)):\n",
    "        \n",
    "        newList.append([listOfMagns[i],listOfStatus[i],listOfRaws[i]])\n",
    "        newList[i]=flatterList(newList[i])\n",
    "        newList[i].append(targetClass)\n",
    "    df = pd.DataFrame(newList, columns = ['MeanMagnetometerX', 'MeanMagnetometerY','MeanMagnetometerZ','StdMagnetometerX','StdMagnetometerY','StdMagnetometerZ','MeanNoSatellites','StdNoSatellites','MeanSignalToNoiseRatio','StdSignalToNoiseRatio','MeanPseudorange','StdPseudorange','Class'])\n",
    "    return df"
   ]
  },
  {
   "cell_type": "code",
   "execution_count": 5,
   "id": "1cc4fa8f",
   "metadata": {},
   "outputs": [],
   "source": [
    "import statistics\n",
    "def meanOfColumn(mylist,column):\n",
    "    newlist=[]\n",
    "    for row in mylist:\n",
    "        newlist.append(row[column])\n",
    "        \n",
    "    return statistics.mean(newlist),statistics.stdev(newlist)\n",
    "\n",
    "def flatterList(mylist):\n",
    "    return [x for xs in mylist for x in xs]\n"
   ]
  },
  {
   "cell_type": "code",
   "execution_count": 8,
   "id": "8ae84204",
   "metadata": {},
   "outputs": [
    {
     "name": "stdout",
     "output_type": "stream",
     "text": [
      "      MeanMagnetometerX  MeanMagnetometerY  MeanMagnetometerZ  \\\n",
      "0            -52.944681         -85.880851        -233.097877   \n",
      "1            -52.767443         -85.800000        -233.169773   \n",
      "2            -52.707144         -85.560714        -232.900005   \n",
      "3            -52.350002         -85.312500        -233.025002   \n",
      "4            -52.280771         -85.276923        -232.976926   \n",
      "...                 ...                ...                ...   \n",
      "2168          35.652632          92.394737          -6.505263   \n",
      "2169          37.299010          92.275248          -5.804951   \n",
      "2170         -64.521275         -60.756383        -179.694681   \n",
      "2171         -65.414798         -64.248040        -177.852800   \n",
      "2172         -65.217240         -65.010345        -177.458621   \n",
      "\n",
      "      StdMagnetometerX  StdMagnetometerY  StdMagnetometerZ  MeanNoSatellites  \\\n",
      "0             0.065303          0.094727          0.209023              23.0   \n",
      "1             0.064443          0.000000          0.086010              23.0   \n",
      "2             0.084976          0.098495          0.107872              24.0   \n",
      "3             0.058345          0.044363          0.078547              24.0   \n",
      "4             0.074198          0.042544          0.075704              22.0   \n",
      "...                ...               ...               ...               ...   \n",
      "2168          0.265836          0.125089          0.145095              25.0   \n",
      "2169          0.963379          0.323236          0.321053              25.0   \n",
      "2170          0.953417          0.386481          0.872072              30.0   \n",
      "2171          0.805944          1.195632          1.245832              30.0   \n",
      "2172          0.694877          0.152970          0.483058              29.0   \n",
      "\n",
      "      StdNoSatellites  MeanSignalToNoiseRatio  StdSignalToNoiseRatio  \\\n",
      "0                 0.0               21.825000              10.946755   \n",
      "1                 0.0               21.825000              10.946755   \n",
      "2                 0.0               21.750000              11.147787   \n",
      "3                 0.0               21.750000              11.147787   \n",
      "4                 0.0               21.663158              11.686755   \n",
      "...               ...                     ...                    ...   \n",
      "2168              0.0               27.108333               6.385372   \n",
      "2169              0.0               26.720833               6.506623   \n",
      "2170              0.0               32.779167               6.169770   \n",
      "2171              0.0               32.779167               6.169770   \n",
      "2172              0.0               32.454167               6.335612   \n",
      "\n",
      "      MeanPseudorange  StdPseudorange    Class  \n",
      "0        8.547496e+12    1.416779e+13  Outdoor  \n",
      "1        8.547496e+12    1.416779e+13  Outdoor  \n",
      "2        8.547526e+12    1.416786e+13  Outdoor  \n",
      "3        8.547526e+12    1.416786e+13  Outdoor  \n",
      "4        7.804284e+12    1.414988e+13  Outdoor  \n",
      "...               ...             ...      ...  \n",
      "2168     2.509540e+13    4.439804e+13  Outdoor  \n",
      "2169     2.509540e+13    4.392318e+13  Outdoor  \n",
      "2170     1.214454e+13    2.148362e+13  Outdoor  \n",
      "2171     1.214454e+13    2.148362e+13  Outdoor  \n",
      "2172     1.214454e+13    2.148362e+13  Outdoor  \n",
      "\n",
      "[2173 rows x 13 columns]\n"
     ]
    }
   ],
   "source": [
    "#dataframes based on hardcoded files \n",
    "dataframeOut=breakdowncsv('OutdoorC.csv',\"Outdoor\")\n",
    "dataframeIn=breakdowncsv('IndoorC.csv',\"Indoor\")\n",
    "dataframeDoor=breakdowncsv('AtdoorC.csv',\"At door\")\n",
    "dataframeOut2=breakdowncsv('OutdoorC2.csv',\"Outdoor\")\n",
    "dataframeIn2=breakdowncsv('IndoorC2.csv',\"Indoor\")\n",
    "dataframeIn3=breakdowncsv('Indoor3.csv',\"Indoor\")\n",
    "dataframeAt2=breakdowncsv('Door2.csv',\"At door\")\n",
    "dataframeAt3=breakdowncsv('Door3.csv',\"At door\")\n",
    "dataframeOut3=breakdowncsv('Outdoor3.csv',\"Outdoor\")\n",
    "dataframeOut4=breakdowncsv('Outdoor4.csv',\"Outdoor\")\n",
    "dataframeIn4=breakdowncsv('Indoor4.csv',\"Indoor\")\n",
    "\n",
    "\n",
    "dataframeTraining=pd.concat([dataframeOut,dataframeIn,dataframeDoor,dataframeAt3,dataframeIn3,dataframeOut3,dataframeOut2],ignore_index=True)\n",
    "dataframeTraining.drop_duplicates()\n",
    "print(dataframeTraining)"
   ]
  },
  {
   "cell_type": "code",
   "execution_count": 9,
   "id": "117f8379",
   "metadata": {},
   "outputs": [
    {
     "name": "stdout",
     "output_type": "stream",
     "text": [
      "   MeanMagnetometerX  MeanMagnetometerY  MeanMagnetometerZ  StdMagnetometerX  \\\n",
      "0         -19.796657         -34.371958        -115.779796          2.516093   \n",
      "1         -23.034286         -34.157144        -114.582862          0.048159   \n",
      "2         -22.894771         -34.172550        -114.828107          0.178625   \n",
      "3         -23.025000         -34.240625        -114.818751          0.062217   \n",
      "4         -22.880838         -34.158085        -114.489823          0.061049   \n",
      "5         -22.740773         -34.265212        -114.758232          0.129518   \n",
      "6         -22.726667         -34.466667        -115.306668          0.044978   \n",
      "7         -22.958319         -34.323242        -114.870757          0.231128   \n",
      "8         -23.067568         -34.318919        -114.945948          0.047458   \n",
      "\n",
      "   StdMagnetometerY  StdMagnetometerZ  MeanNoSatellites  StdNoSatellites  \\\n",
      "0          0.279942          1.020280          4.025641         0.607377   \n",
      "1          0.050209          0.051370          5.000000         0.000000   \n",
      "2          0.087392          0.156585          5.000000         0.000000   \n",
      "3          0.049899          0.064444          5.000000         0.000000   \n",
      "4          0.058422          0.240890          5.000000         0.000000   \n",
      "5          0.106231          0.250020          5.375000         0.487177   \n",
      "6          0.047946          0.108063          5.000000         0.000000   \n",
      "7          0.111717          0.257443          4.740741         0.440271   \n",
      "8          0.039706          0.146429          5.000000         0.000000   \n",
      "\n",
      "   MeanSignalToNoiseRatio  StdSignalToNoiseRatio  MeanPseudorange  \\\n",
      "0                  19.520               4.589880     1.489647e+13   \n",
      "1                  19.520               4.589880     1.489647e+13   \n",
      "2                  20.800               5.309896     1.489647e+13   \n",
      "3                  20.800               5.309896     1.489647e+13   \n",
      "4                  20.040               5.188738     1.489647e+13   \n",
      "5                  19.530               5.365538     1.489647e+13   \n",
      "6                  19.020               6.099344     1.489647e+13   \n",
      "7                  18.725               5.930360     1.861953e+13   \n",
      "8                  18.725               5.930360     1.861953e+13   \n",
      "\n",
      "   StdPseudorange   Class  \n",
      "0    3.330478e+13  Indoor  \n",
      "1    3.330478e+13  Indoor  \n",
      "2    3.330478e+13  Indoor  \n",
      "3    3.330478e+13  Indoor  \n",
      "4    3.330478e+13  Indoor  \n",
      "5    3.140004e+13  Indoor  \n",
      "6    3.330478e+13  Indoor  \n",
      "7    3.723622e+13  Indoor  \n",
      "8    3.723622e+13  Indoor  \n"
     ]
    }
   ],
   "source": [
    "print(dataframeIn4)"
   ]
  },
  {
   "cell_type": "code",
   "execution_count": 10,
   "id": "b1cb0d9c",
   "metadata": {},
   "outputs": [
    {
     "name": "stdout",
     "output_type": "stream",
     "text": [
      "     MeanMagnetometerX  MeanMagnetometerY  MeanMagnetometerZ  \\\n",
      "0           -44.166561         -59.581224        -156.871264   \n",
      "1           -40.532324         -59.461616        -155.860609   \n",
      "2           -40.770588         -59.476471        -156.102941   \n",
      "3           -40.754412         -59.513236        -156.133824   \n",
      "4           -40.916000         -59.600001        -156.208001   \n",
      "..                 ...                ...                ...   \n",
      "608         -22.880838         -34.158085        -114.489823   \n",
      "609         -22.740773         -34.265212        -114.758232   \n",
      "610         -22.726667         -34.466667        -115.306668   \n",
      "611         -22.958319         -34.323242        -114.870757   \n",
      "612         -23.067568         -34.318919        -114.945948   \n",
      "\n",
      "     StdMagnetometerX  StdMagnetometerY  StdMagnetometerZ  MeanNoSatellites  \\\n",
      "0            4.453544          2.032725          1.562160          3.123223   \n",
      "1            0.087864          0.052890          0.105772          4.000000   \n",
      "2            0.046250          0.043056          0.057658          4.000000   \n",
      "3            0.050175          0.041983          0.058871          4.000000   \n",
      "4            0.050950          0.057143          0.110363          4.000000   \n",
      "..                ...               ...               ...               ...   \n",
      "608          0.061049          0.058422          0.240890          5.000000   \n",
      "609          0.129518          0.106231          0.250020          5.375000   \n",
      "610          0.044978          0.047946          0.108063          5.000000   \n",
      "611          0.231128          0.111717          0.257443          4.740741   \n",
      "612          0.047458          0.039706          0.146429          5.000000   \n",
      "\n",
      "     StdNoSatellites  MeanSignalToNoiseRatio  StdSignalToNoiseRatio  \\\n",
      "0           0.912339                  16.000               4.254409   \n",
      "1           0.000000                  15.800               3.494485   \n",
      "2           0.000000                  15.600               3.207284   \n",
      "3           0.000000                  16.425               3.902456   \n",
      "4           0.000000                  16.425               3.902456   \n",
      "..               ...                     ...                    ...   \n",
      "608         0.000000                  20.040               5.188738   \n",
      "609         0.487177                  19.530               5.365538   \n",
      "610         0.000000                  19.020               6.099344   \n",
      "611         0.440271                  18.725               5.930360   \n",
      "612         0.000000                  18.725               5.930360   \n",
      "\n",
      "     MeanPseudorange  StdPseudorange   Class  \n",
      "0       1.214297e+13    2.428589e+13  Indoor  \n",
      "1       1.214297e+13    2.248436e+13  Indoor  \n",
      "2       1.214297e+13    2.428589e+13  Indoor  \n",
      "3       1.214297e+13    2.428589e+13  Indoor  \n",
      "4       1.214297e+13    2.428589e+13  Indoor  \n",
      "..               ...             ...     ...  \n",
      "608     1.489647e+13    3.330478e+13  Indoor  \n",
      "609     1.489647e+13    3.140004e+13  Indoor  \n",
      "610     1.489647e+13    3.330478e+13  Indoor  \n",
      "611     1.861953e+13    3.723622e+13  Indoor  \n",
      "612     1.861953e+13    3.723622e+13  Indoor  \n",
      "\n",
      "[613 rows x 13 columns]\n"
     ]
    }
   ],
   "source": [
    "dataframeTesting=pd.concat([dataframeIn2,dataframeAt2,dataframeOut4,dataframeIn4],ignore_index=True)\n",
    "dataframeTesting.drop_duplicates\n",
    "print(dataframeTesting)"
   ]
  },
  {
   "cell_type": "code",
   "execution_count": null,
   "id": "812d62e8",
   "metadata": {},
   "outputs": [],
   "source": []
  },
  {
   "cell_type": "code",
   "execution_count": 12,
   "id": "7d83a699",
   "metadata": {},
   "outputs": [],
   "source": [
    "X_train=dataframeTraining.iloc[:,0:12].values\n",
    "y_train=dataframeTraining.iloc[:,12].values\n",
    "\n",
    "X_test=dataframeTesting.iloc[:,0:12].values\n",
    "y_test=dataframeTesting.iloc[:,12].values"
   ]
  },
  {
   "cell_type": "code",
   "execution_count": 13,
   "id": "d2c2b71a",
   "metadata": {},
   "outputs": [
    {
     "name": "stdout",
     "output_type": "stream",
     "text": [
      "(2173, 12)\n",
      "(613, 12)\n",
      "(2173,)\n",
      "(613,)\n"
     ]
    }
   ],
   "source": [
    "from sklearn.model_selection import train_test_split\n",
    "\n",
    "print(X_train.shape)\n",
    "print(X_test.shape)\n",
    "print(y_train.shape)\n",
    "print(y_test.shape)"
   ]
  },
  {
   "cell_type": "code",
   "execution_count": 14,
   "id": "01c8f4ff",
   "metadata": {},
   "outputs": [],
   "source": [
    "from sklearn.preprocessing import StandardScaler\n",
    "sc=StandardScaler()\n",
    "\n",
    "X_train=sc.fit_transform(X_train)\n",
    "X_test=sc.fit_transform(X_test)\n"
   ]
  },
  {
   "cell_type": "code",
   "execution_count": 15,
   "id": "a8b3aa85",
   "metadata": {},
   "outputs": [],
   "source": [
    "from sklearn.ensemble import RandomForestClassifier\n",
    "from sklearn.linear_model import LogisticRegression\n",
    "RFclassifier=RandomForestClassifier(max_depth=3,n_estimators=10,random_state=2)\n",
    "logisticClassifier=LogisticRegression(solver='lbfgs')\n",
    "y_train=y_train.astype('str')\n",
    "RFclassifier.fit(X_train,y_train)\n",
    "logisticClassifier.fit(X_train,y_train)\n",
    "y_predRF=RFclassifier.predict(X_test)\n",
    "y_predLR=logisticClassifier.predict(X_test) "
   ]
  },
  {
   "cell_type": "code",
   "execution_count": 25,
   "id": "9b89b0a9",
   "metadata": {},
   "outputs": [],
   "source": [
    "from sklearn.neighbors import KNeighborsClassifier\n",
    "from sklearn.svm import SVC\n",
    "from sklearn.metrics import confusion_matrix\n",
    "from sklearn.metrics import classification_report\n",
    "from sklearn.metrics import accuracy_score"
   ]
  },
  {
   "cell_type": "code",
   "execution_count": 26,
   "id": "899a41fd",
   "metadata": {},
   "outputs": [],
   "source": [
    "SVC_model = SVC(kernel='linear')\n",
    "KNN_model = KNeighborsClassifier(n_neighbors=2)\n",
    "SVC_model.fit(X_train, y_train)\n",
    "KNN_model.fit(X_train, y_train)\n",
    "\n",
    "SVC_prediction = SVC_model.predict(X_test)\n",
    "KNN_prediction = KNN_model.predict(X_test)"
   ]
  },
  {
   "cell_type": "code",
   "execution_count": 27,
   "id": "ab7dbffd",
   "metadata": {
    "scrolled": true
   },
   "outputs": [
    {
     "name": "stdout",
     "output_type": "stream",
     "text": [
      "[[358   0   1]\n",
      " [ 15  52   0]\n",
      " [  6   0 181]]\n",
      "              precision    recall  f1-score   support\n",
      "\n",
      "     At door       0.94      1.00      0.97       359\n",
      "      Indoor       1.00      0.78      0.87        67\n",
      "     Outdoor       0.99      0.97      0.98       187\n",
      "\n",
      "    accuracy                           0.96       613\n",
      "   macro avg       0.98      0.91      0.94       613\n",
      "weighted avg       0.97      0.96      0.96       613\n",
      "\n",
      "0.964110929853181\n"
     ]
    }
   ],
   "source": [
    "print(confusion_matrix(SVC_prediction, y_test))\n",
    "print(classification_report(SVC_prediction, y_test))\n",
    "\n",
    "print(accuracy_score(SVC_prediction, y_test))\n"
   ]
  },
  {
   "cell_type": "code",
   "execution_count": 28,
   "id": "e9c54975",
   "metadata": {},
   "outputs": [
    {
     "name": "stdout",
     "output_type": "stream",
     "text": [
      "[[372   5 100]\n",
      " [  2  47   0]\n",
      " [  5   0  82]]\n",
      "              precision    recall  f1-score   support\n",
      "\n",
      "     At door       0.98      0.78      0.87       477\n",
      "      Indoor       0.90      0.96      0.93        49\n",
      "     Outdoor       0.45      0.94      0.61        87\n",
      "\n",
      "    accuracy                           0.82       613\n",
      "   macro avg       0.78      0.89      0.80       613\n",
      "weighted avg       0.90      0.82      0.84       613\n",
      "\n",
      "0.8172920065252854\n"
     ]
    }
   ],
   "source": [
    "print(confusion_matrix(KNN_prediction, y_test))\n",
    "print(classification_report(KNN_prediction, y_test))\n",
    "print(accuracy_score(KNN_prediction, y_test))"
   ]
  },
  {
   "cell_type": "code",
   "execution_count": 29,
   "id": "44675e82",
   "metadata": {},
   "outputs": [
    {
     "name": "stdout",
     "output_type": "stream",
     "text": [
      "[[327   9   0]\n",
      " [ 43  43   0]\n",
      " [  9   0 182]]\n",
      "              precision    recall  f1-score   support\n",
      "\n",
      "     At door       0.86      0.97      0.91       336\n",
      "      Indoor       0.83      0.50      0.62        86\n",
      "     Outdoor       1.00      0.95      0.98       191\n",
      "\n",
      "    accuracy                           0.90       613\n",
      "   macro avg       0.90      0.81      0.84       613\n",
      "weighted avg       0.90      0.90      0.89       613\n",
      "\n",
      "0.9004893964110929\n"
     ]
    }
   ],
   "source": [
    "from sklearn.metrics import classification_report, confusion_matrix, accuracy_score\n",
    "print(confusion_matrix(y_predRF,y_test))\n",
    "print(classification_report(y_predRF,y_test))\n",
    "print(accuracy_score(y_predRF,y_test))"
   ]
  },
  {
   "cell_type": "code",
   "execution_count": 30,
   "id": "d17297ca",
   "metadata": {},
   "outputs": [
    {
     "name": "stdout",
     "output_type": "stream",
     "text": [
      "[[339   0   0]\n",
      " [ 31  52   2]\n",
      " [  9   0 180]]\n",
      "              precision    recall  f1-score   support\n",
      "\n",
      "     At door       0.89      1.00      0.94       339\n",
      "      Indoor       1.00      0.61      0.76        85\n",
      "     Outdoor       0.99      0.95      0.97       189\n",
      "\n",
      "    accuracy                           0.93       613\n",
      "   macro avg       0.96      0.85      0.89       613\n",
      "weighted avg       0.94      0.93      0.93       613\n",
      "\n",
      "0.9314845024469821\n"
     ]
    }
   ],
   "source": [
    "print(confusion_matrix(y_predLR,y_test))\n",
    "print(classification_report(y_predLR,y_test))\n",
    "print(accuracy_score(y_predLR,y_test))"
   ]
  },
  {
   "cell_type": "code",
   "execution_count": null,
   "id": "ef36473e",
   "metadata": {},
   "outputs": [],
   "source": []
  },
  {
   "cell_type": "code",
   "execution_count": 34,
   "id": "70b8b2b7",
   "metadata": {},
   "outputs": [
    {
     "name": "stdout",
     "output_type": "stream",
     "text": [
      "['At door']\n"
     ]
    }
   ],
   "source": [
    "sample=[[-57.2,-80,-200,0.06,0.09,0.2,23,0.1,22.1,9.8,8000000000000,12000000000000]]\n",
    "sample=sc.fit_transform(sample)   \n",
    "\n",
    "\n",
    "print(RFclassifier.predict(sample))"
   ]
  },
  {
   "cell_type": "code",
   "execution_count": 38,
   "id": "ce0107ba",
   "metadata": {},
   "outputs": [
    {
     "name": "stdout",
     "output_type": "stream",
     "text": [
      "['At door' 'At door' 'Indoor' 'Outdoor' 'Outdoor' 'Outdoor' 'Outdoor'\n",
      " 'Indoor' 'Indoor' 'Outdoor' 'At door' 'At door' 'Indoor' 'Indoor'\n",
      " 'At door' 'At door' 'At door' 'At door' 'At door' 'At door' 'At door'\n",
      " 'At door' 'At door' 'At door' 'At door' 'At door' 'Indoor' 'Outdoor'\n",
      " 'Outdoor' 'Indoor' 'At door' 'At door' 'At door' 'At door' 'Indoor'\n",
      " 'Indoor' 'At door' 'At door' 'At door' 'At door' 'At door' 'At door'\n",
      " 'At door']\n",
      "From 2022-06-28 11:12:12 to 2022-06-28 11:12:54 the location is At door\n",
      "From 2022-06-28 11:12:54 to 2022-06-28 11:12:56 the location is At door\n",
      "From 2022-06-28 11:12:56 to 2022-06-28 11:12:56 the location is Indoor\n",
      "From 2022-06-28 11:12:56 to 2022-06-28 11:12:56 the location is Outdoor\n",
      "From 2022-06-28 11:12:56 to 2022-06-28 11:12:56 the location is Outdoor\n",
      "From 2022-06-28 11:12:56 to 2022-06-28 11:12:58 the location is Outdoor\n",
      "From 2022-06-28 11:12:58 to 2022-06-28 11:12:58 the location is Outdoor\n",
      "From 2022-06-28 11:12:58 to 2022-06-28 11:12:58 the location is Indoor\n",
      "From 2022-06-28 11:12:58 to 2022-06-28 11:12:58 the location is Indoor\n",
      "From 2022-06-28 11:12:58 to 2022-06-28 11:13:00 the location is Outdoor\n",
      "From 2022-06-28 11:13:00 to 2022-06-28 11:13:00 the location is At door\n",
      "From 2022-06-28 11:13:00 to 2022-06-28 11:13:02 the location is At door\n",
      "From 2022-06-28 11:13:02 to 2022-06-28 11:13:02 the location is Indoor\n",
      "From 2022-06-28 11:13:02 to 2022-06-28 11:13:02 the location is Indoor\n",
      "From 2022-06-28 11:13:02 to 2022-06-28 11:13:03 the location is At door\n",
      "From 2022-06-28 11:13:03 to 2022-06-28 11:13:03 the location is At door\n",
      "From 2022-06-28 11:13:03 to 2022-06-28 11:13:05 the location is At door\n",
      "From 2022-06-28 11:13:05 to 2022-06-28 11:13:05 the location is At door\n",
      "From 2022-06-28 11:13:05 to 2022-06-28 11:13:13 the location is At door\n",
      "From 2022-06-28 11:13:13 to 2022-06-28 11:13:13 the location is At door\n",
      "From 2022-06-28 11:13:13 to 2022-06-28 11:13:13 the location is At door\n",
      "From 2022-06-28 11:13:13 to 2022-06-28 11:13:15 the location is At door\n",
      "From 2022-06-28 11:13:15 to 2022-06-28 11:13:15 the location is At door\n",
      "From 2022-06-28 11:13:15 to 2022-06-28 11:13:15 the location is At door\n",
      "From 2022-06-28 11:13:15 to 2022-06-28 11:13:17 the location is At door\n",
      "From 2022-06-28 11:13:17 to 2022-06-28 11:13:17 the location is At door\n",
      "From 2022-06-28 11:13:17 to 2022-06-28 11:13:18 the location is Indoor\n",
      "From 2022-06-28 11:13:18 to 2022-06-28 11:13:20 the location is Outdoor\n",
      "From 2022-06-28 11:13:20 to 2022-06-28 11:13:20 the location is Outdoor\n",
      "From 2022-06-28 11:13:20 to 2022-06-28 11:13:20 the location is Indoor\n",
      "From 2022-06-28 11:13:20 to 2022-06-28 11:13:22 the location is At door\n",
      "From 2022-06-28 11:13:22 to 2022-06-28 11:13:22 the location is At door\n",
      "From 2022-06-28 11:13:22 to 2022-06-28 11:13:22 the location is At door\n",
      "From 2022-06-28 11:13:22 to 2022-06-28 11:13:24 the location is At door\n",
      "From 2022-06-28 11:13:24 to 2022-06-28 11:13:25 the location is Indoor\n",
      "From 2022-06-28 11:13:25 to 2022-06-28 11:13:25 the location is Indoor\n",
      "From 2022-06-28 11:13:25 to 2022-06-28 11:13:25 the location is At door\n",
      "From 2022-06-28 11:13:25 to 2022-06-28 11:13:25 the location is At door\n",
      "From 2022-06-28 11:13:25 to 2022-06-28 11:13:27 the location is At door\n",
      "From 2022-06-28 11:13:27 to 2022-06-28 11:13:29 the location is At door\n",
      "From 2022-06-28 11:13:29 to 2022-06-28 11:13:29 the location is At door\n",
      "From 2022-06-28 11:13:29 to 2022-06-28 11:13:30 the location is At door\n",
      "From 2022-06-28 11:13:30 to 2022-06-28 11:13:30 the location is At door\n"
     ]
    }
   ],
   "source": [
    "printLocation(\"C:\\\\Users\\\\user\\\\OneDrive\\\\Υπολογιστής\\\\IndoorOutdoor\\\\28June measurementd\\\\samsung indoor near elevator.txt\",\"try4.csv\",KNN_model)"
   ]
  },
  {
   "cell_type": "code",
   "execution_count": null,
   "id": "1302eed0",
   "metadata": {},
   "outputs": [],
   "source": []
  },
  {
   "cell_type": "code",
   "execution_count": null,
   "id": "12a233fd",
   "metadata": {},
   "outputs": [],
   "source": []
  }
 ],
 "metadata": {
  "kernelspec": {
   "display_name": "Python 3",
   "language": "python",
   "name": "python3"
  },
  "language_info": {
   "codemirror_mode": {
    "name": "ipython",
    "version": 3
   },
   "file_extension": ".py",
   "mimetype": "text/x-python",
   "name": "python",
   "nbconvert_exporter": "python",
   "pygments_lexer": "ipython3",
   "version": "3.8.8"
  }
 },
 "nbformat": 4,
 "nbformat_minor": 5
}
